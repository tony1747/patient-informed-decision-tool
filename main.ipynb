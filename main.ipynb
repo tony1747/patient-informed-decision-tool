{
 "cells": [
  {
   "cell_type": "code",
   "execution_count": 33,
   "metadata": {},
   "outputs": [
    {
     "name": "stdout",
     "output_type": "stream",
     "text": [
      "The autoreload extension is already loaded. To reload it, use:\n",
      "  %reload_ext autoreload\n"
     ]
    }
   ],
   "source": [
    "import random\n",
    "import time\n",
    "import numpy as np\n",
    "import pandas as pd\n",
    "import matplotlib.pyplot as plt\n",
    "import json\n",
    "\n",
    "%load_ext autoreload\n",
    "%autoreload 2"
   ]
  },
  {
   "cell_type": "code",
   "execution_count": 21,
   "metadata": {},
   "outputs": [],
   "source": [
    "import tumour_model as tm\n",
    "import scheduler as sch"
   ]
  },
  {
   "cell_type": "code",
   "execution_count": 34,
   "metadata": {},
   "outputs": [
    {
     "name": "stdout",
     "output_type": "stream",
     "text": [
      "{'start_size': 10000000.0, 'start_toxicity': 0.5, 'start_strike': 1, 'start_cycle': 1}\n"
     ]
    }
   ],
   "source": [
    "# read json file patient_config.json\n",
    "with open('patient_config.json') as f:\n",
    "    patient_config = json.load(f)\n",
    "print(\"patient config:\", patient_config)\n",
    "doses = [1, 0.75, 0.5]"
   ]
  },
  {
   "cell_type": "code",
   "execution_count": 22,
   "metadata": {},
   "outputs": [],
   "source": [
    "allele_shape_param = 1\n",
    "\n",
    "def cost(toxicity, plan, schedule):\n",
    "    return random.random()\n",
    "\n",
    "def benefit(burden, plan, schedule):\n",
    "    duration = sch.duration(schedule)\n",
    "    sol = tm.tumour_growth(burden, duration, schedule, allele_shape_param, plan, duration)\n",
    "    size = tm.final_tumour_volume(sol)\n",
    "    return size\n",
    "\n",
    "def score(config, plan):\n",
    "    sch_list = sch.plan_to_schedule(*plan, config[\"start_strike\"], config[\"start_cycle\"])\n",
    "    schedule = np.array(sch_list, dtype=object)\n",
    "    cost_val = cost(config[\"toxicity\"], plan, schedule)\n",
    "    benefit_val = max(1 - benefit(config[\"burden\"], plan, schedule), 0)\n",
    "    return cost_val, benefit_val\n",
    "\n",
    "def score_total(cost, benefit):\n",
    "    return benefit - cost"
   ]
  },
  {
   "cell_type": "code",
   "execution_count": 23,
   "metadata": {},
   "outputs": [
    {
     "name": "stdout",
     "output_type": "stream",
     "text": [
      "Tested 81 treatment schedules.\n",
      "Elapsed Time: 50.9769 seconds\n",
      "Best schedule:\n",
      "t1    1.00\n",
      "t2    0.75\n",
      "t3    0.75\n",
      "t4    0.75\n",
      "Name: 13, dtype: float64\n",
      "Cost: 0.0044\n",
      "Benefit: 1.0000\n"
     ]
    }
   ],
   "source": [
    "start_time = time.time()\n",
    "\n",
    "all_plans = [(t1, t2, t3, t4) for t1 in doses for t2 in doses for t3 in doses for t4 in doses]\n",
    "\n",
    "scored_plans = [(*plan, *score(patient_config, plan)) for plan in all_plans]\n",
    "\n",
    "df_sch = pd.DataFrame(scored_plans, columns = [\"t1\", \"t2\", \"t3\", \"t4\", \"cost\", \"benefit\"])\n",
    "df_sch.head()\n",
    "\n",
    "# add total score column\n",
    "df_sch[\"total_score\"] = df_sch.apply(lambda x: score_total(x[\"cost\"], x[\"benefit\"]), axis=1)\n",
    "\n",
    "# find best schedule as the maximum total score\n",
    "best_schedule = df_sch.loc[df_sch[\"total_score\"].idxmax()]\n",
    "\n",
    "end_time = time.time()\n",
    "elapsed_time = end_time - start_time\n",
    "\n",
    "print(f\"Tested {len(df_sch)} treatment schedules.\")\n",
    "print(f\"Elapsed Time: {elapsed_time:.4f} seconds\")\n",
    "print(f\"Best schedule:\\n{best_schedule.iloc[0:4]}\\nCost: {best_schedule['cost']:.4f}\\nBenefit: {best_schedule['benefit']:.4f}\")"
   ]
  },
  {
   "cell_type": "code",
   "execution_count": 24,
   "metadata": {},
   "outputs": [
    {
     "data": {
      "text/html": [
       "<div>\n",
       "<style scoped>\n",
       "    .dataframe tbody tr th:only-of-type {\n",
       "        vertical-align: middle;\n",
       "    }\n",
       "\n",
       "    .dataframe tbody tr th {\n",
       "        vertical-align: top;\n",
       "    }\n",
       "\n",
       "    .dataframe thead th {\n",
       "        text-align: right;\n",
       "    }\n",
       "</style>\n",
       "<table border=\"1\" class=\"dataframe\">\n",
       "  <thead>\n",
       "    <tr style=\"text-align: right;\">\n",
       "      <th></th>\n",
       "      <th>t1</th>\n",
       "      <th>t2</th>\n",
       "      <th>t3</th>\n",
       "      <th>t4</th>\n",
       "      <th>cost</th>\n",
       "      <th>benefit</th>\n",
       "      <th>total_score</th>\n",
       "    </tr>\n",
       "  </thead>\n",
       "  <tbody>\n",
       "    <tr>\n",
       "      <th>0</th>\n",
       "      <td>1.0</td>\n",
       "      <td>1.0</td>\n",
       "      <td>1.00</td>\n",
       "      <td>1.00</td>\n",
       "      <td>0.794117</td>\n",
       "      <td>1.0</td>\n",
       "      <td>0.205883</td>\n",
       "    </tr>\n",
       "    <tr>\n",
       "      <th>1</th>\n",
       "      <td>1.0</td>\n",
       "      <td>1.0</td>\n",
       "      <td>1.00</td>\n",
       "      <td>0.75</td>\n",
       "      <td>0.676631</td>\n",
       "      <td>1.0</td>\n",
       "      <td>0.323369</td>\n",
       "    </tr>\n",
       "    <tr>\n",
       "      <th>2</th>\n",
       "      <td>1.0</td>\n",
       "      <td>1.0</td>\n",
       "      <td>1.00</td>\n",
       "      <td>0.50</td>\n",
       "      <td>0.256588</td>\n",
       "      <td>1.0</td>\n",
       "      <td>0.743412</td>\n",
       "    </tr>\n",
       "    <tr>\n",
       "      <th>3</th>\n",
       "      <td>1.0</td>\n",
       "      <td>1.0</td>\n",
       "      <td>0.75</td>\n",
       "      <td>1.00</td>\n",
       "      <td>0.751846</td>\n",
       "      <td>1.0</td>\n",
       "      <td>0.248154</td>\n",
       "    </tr>\n",
       "    <tr>\n",
       "      <th>4</th>\n",
       "      <td>1.0</td>\n",
       "      <td>1.0</td>\n",
       "      <td>0.75</td>\n",
       "      <td>0.75</td>\n",
       "      <td>0.581848</td>\n",
       "      <td>1.0</td>\n",
       "      <td>0.418152</td>\n",
       "    </tr>\n",
       "  </tbody>\n",
       "</table>\n",
       "</div>"
      ],
      "text/plain": [
       "    t1   t2    t3    t4      cost  benefit  total_score\n",
       "0  1.0  1.0  1.00  1.00  0.794117      1.0     0.205883\n",
       "1  1.0  1.0  1.00  0.75  0.676631      1.0     0.323369\n",
       "2  1.0  1.0  1.00  0.50  0.256588      1.0     0.743412\n",
       "3  1.0  1.0  0.75  1.00  0.751846      1.0     0.248154\n",
       "4  1.0  1.0  0.75  0.75  0.581848      1.0     0.418152"
      ]
     },
     "execution_count": 24,
     "metadata": {},
     "output_type": "execute_result"
    }
   ],
   "source": [
    "df_sch.head()"
   ]
  },
  {
   "cell_type": "code",
   "execution_count": 25,
   "metadata": {},
   "outputs": [
    {
     "data": {
      "image/png": "[encoded data removed]",
      "text/plain": [
       "<Figure size 1000x400 with 2 Axes>"
      ]
     },
     "metadata": {},
     "output_type": "display_data"
    }
   ],
   "source": [
    "# plot two histograms for cost and benefit\n",
    "fig, ax = plt.subplots(1, 2, figsize=(10, 4))\n",
    "ax[0].hist(df_sch[\"cost\"], bins=50)\n",
    "ax[0].set_title(\"Cost\");\n",
    "ax[1].hist(df_sch[\"benefit\"], bins=50)\n",
    "ax[1].set_title(\"Benefit\");"
   ]
  },
  {
   "cell_type": "code",
   "execution_count": 26,
   "metadata": {},
   "outputs": [
    {
     "data": {
      "text/plain": [
       "Text(0.5, 1.0, 'Cost vs Benefit for All Treatment Schedules')"
      ]
     },
     "execution_count": 26,
     "metadata": {},
     "output_type": "execute_result"
    },
    {
     "data": {
      "image/png": "[encoded data removed]",
      "text/plain": [
       "<Figure size 640x480 with 1 Axes>"
      ]
     },
     "metadata": {},
     "output_type": "display_data"
    }
   ],
   "source": [
    "threshold = 0.5 # arbitrary threshold\n",
    "\n",
    "above_threshold = df_sch.loc[df_sch[\"total_score\"] > threshold]\n",
    "below_threshold = df_sch.loc[df_sch[\"total_score\"] <= threshold]\n",
    "plt.scatter(above_threshold[\"cost\"], above_threshold[\"benefit\"], s=1, alpha=0.5, c=\"green\", label=\"Above Threshold\")\n",
    "plt.scatter(below_threshold[\"cost\"], below_threshold[\"benefit\"], s=1, alpha=0.5, c=\"red\", label=\"Below Threshold\")\n",
    "\n",
    "# add a line at y = x - 1.5\n",
    "x = np.linspace(0, 1, 100)\n",
    "y = x + threshold\n",
    "plt.plot(x, y, c=\"black\")\n",
    "\n",
    "plt.xlabel(\"Cost\")\n",
    "plt.ylabel(\"Benefit\")\n",
    "plt.legend()\n",
    "plt.title(\"Cost vs Benefit for All Treatment Schedules\")"
   ]
  },
  {
   "cell_type": "code",
   "execution_count": null,
   "metadata": {},
   "outputs": [],
   "source": []
  }
 ],
 "metadata": {
  "kernelspec": {
   "display_name": "Python 3",
   "language": "python",
   "name": "python3"
  },
  "language_info": {
   "codemirror_mode": {
    "name": "ipython",
    "version": 3
   },
   "file_extension": ".py",
   "mimetype": "text/x-python",
   "name": "python",
   "nbconvert_exporter": "python",
   "pygments_lexer": "ipython3",
   "version": "3.9.18"
  }
 },
 "nbformat": 4,
 "nbformat_minor": 2
}
