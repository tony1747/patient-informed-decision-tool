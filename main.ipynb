{
 "cells": [
  {
   "cell_type": "code",
   "execution_count": 2,
   "metadata": {},
   "outputs": [],
   "source": [
    "import random\n",
    "import time\n",
    "import numpy as np\n",
    "import pandas as pd\n",
    "import matplotlib.pyplot as plt\n",
    "import json\n",
    "\n",
    "%load_ext autoreload\n",
    "%autoreload 2"
   ]
  },
  {
   "cell_type": "code",
   "execution_count": 3,
   "metadata": {},
   "outputs": [],
   "source": [
    "import growth_model as gm\n",
    "import tox_model as tm\n",
    "import scheduler as sch\n",
    "import file_manipulation as fm"
   ]
  },
  {
   "cell_type": "code",
   "execution_count": 52,
   "metadata": {},
   "outputs": [
    {
     "name": "stdout",
     "output_type": "stream",
     "text": [
      "patient config: {'toxicity': 1.6433127155860012, 'burden': 0.8708684897640193, 'r': 0.7319939418114051, 'a': 0.5986584841970366, 's1': 0.15601864044243652, 's2': 0.15599452033620265, 's3': 0.05808361216819946, 's4': 0.8661761457749352, 'tx1': 0.6011150117432088, 'tx2': 0.7080725777960455, 'tx3': 0.020584494295802447, 'tx4': 0.9699098521619943, 'clear': 0.8324426408004217, 'start_strike': 1, 'start_cycle': 1}\n"
     ]
    }
   ],
   "source": [
    "# read json file patient_config.json\n",
    "with open('patient_config.json') as f:\n",
    "    patient_config = json.load(f)\n",
    "print(\"patient config:\", patient_config)\n",
    "doses = [1, 0.5, 0.1]"
   ]
  },
  {
   "cell_type": "code",
   "execution_count": 57,
   "metadata": {},
   "outputs": [],
   "source": [
    "def eval(config, plan):\n",
    "    schedule = sch.plan_to_schedule(\n",
    "        *plan, patient_config[\"start_strike\"], patient_config[\"start_cycle\"]\n",
    "    )\n",
    "    duration = int(sch.duration(schedule))\n",
    "    toxicities = fm.get_toxicities(config)\n",
    "    tox, breaks = tm.RunToxDifferenceEquation(\n",
    "        config[\"toxicity\"], 0, duration, schedule, toxicities, config[\"r\"], 10.0\n",
    "    )\n",
    "    new_schedule = tm.GenNewSched(schedule, breaks)\n",
    "    growth_solution = gm.tumour_growth(\n",
    "        config[\"burden\"], duration, new_schedule, config[\"a\"], plan\n",
    "    )\n",
    "    return {\n",
    "        \"plan\": plan,\n",
    "        \"schedule\": new_schedule,\n",
    "        \"toxicity_sol\": tox,\n",
    "        \"burden_sol\": growth_solution,\n",
    "    }\n",
    "\n",
    "\n",
    "def score_burden(burden_sol):\n",
    "    return gm.final_tumour_volume(burden_sol)\n",
    "\n",
    "\n",
    "def score_toxicity(toxicity_sol):\n",
    "    return np.mean(toxicity_sol)\n",
    "\n",
    "\n",
    "def score_total(toxicity, burden):\n",
    "    return burden - toxicity"
   ]
  },
  {
   "cell_type": "code",
   "execution_count": 53,
   "metadata": {},
   "outputs": [
    {
     "name": "stdout",
     "output_type": "stream",
     "text": [
      "Tested 81 treatment schedules.\n",
      "Elapsed Time: 37.8285 seconds\n"
     ]
    }
   ],
   "source": [
    "start_time = time.time()\n",
    "plans = [(t1, t2, t3, t4) for t1 in doses for t2 in doses for t3 in doses for t4 in doses]\n",
    "sols = [eval(patient_config, plan) for plan in plans]\n",
    "\n",
    "end_time = time.time()\n",
    "elapsed_time = end_time - start_time\n",
    "\n",
    "print(f\"Tested {len(plans)} treatment schedules.\")\n",
    "print(f\"Elapsed Time: {elapsed_time:.4f} seconds\")"
   ]
  },
  {
   "cell_type": "code",
   "execution_count": 58,
   "metadata": {},
   "outputs": [
    {
     "data": {
      "text/html": [
       "<div>\n",
       "<style scoped>\n",
       "    .dataframe tbody tr th:only-of-type {\n",
       "        vertical-align: middle;\n",
       "    }\n",
       "\n",
       "    .dataframe tbody tr th {\n",
       "        vertical-align: top;\n",
       "    }\n",
       "\n",
       "    .dataframe thead th {\n",
       "        text-align: right;\n",
       "    }\n",
       "</style>\n",
       "<table border=\"1\" class=\"dataframe\">\n",
       "  <thead>\n",
       "    <tr style=\"text-align: right;\">\n",
       "      <th></th>\n",
       "      <th>S1</th>\n",
       "      <th>S2</th>\n",
       "      <th>S3</th>\n",
       "      <th>S4</th>\n",
       "      <th>burden</th>\n",
       "      <th>toxicity</th>\n",
       "      <th>total_score</th>\n",
       "    </tr>\n",
       "  </thead>\n",
       "  <tbody>\n",
       "    <tr>\n",
       "      <th>0</th>\n",
       "      <td>1.0</td>\n",
       "      <td>1.0</td>\n",
       "      <td>1.0</td>\n",
       "      <td>1.0</td>\n",
       "      <td>4.402197e-172</td>\n",
       "      <td>2.035365</td>\n",
       "      <td>-2.035365</td>\n",
       "    </tr>\n",
       "    <tr>\n",
       "      <th>1</th>\n",
       "      <td>1.0</td>\n",
       "      <td>1.0</td>\n",
       "      <td>1.0</td>\n",
       "      <td>0.5</td>\n",
       "      <td>3.779722e-129</td>\n",
       "      <td>1.866169</td>\n",
       "      <td>-1.866169</td>\n",
       "    </tr>\n",
       "    <tr>\n",
       "      <th>2</th>\n",
       "      <td>1.0</td>\n",
       "      <td>1.0</td>\n",
       "      <td>1.0</td>\n",
       "      <td>0.1</td>\n",
       "      <td>9.581679e-115</td>\n",
       "      <td>1.730813</td>\n",
       "      <td>-1.730813</td>\n",
       "    </tr>\n",
       "    <tr>\n",
       "      <th>3</th>\n",
       "      <td>1.0</td>\n",
       "      <td>1.0</td>\n",
       "      <td>0.5</td>\n",
       "      <td>1.0</td>\n",
       "      <td>6.954132e-140</td>\n",
       "      <td>1.905943</td>\n",
       "      <td>-1.905943</td>\n",
       "    </tr>\n",
       "    <tr>\n",
       "      <th>4</th>\n",
       "      <td>1.0</td>\n",
       "      <td>1.0</td>\n",
       "      <td>0.5</td>\n",
       "      <td>0.5</td>\n",
       "      <td>6.018958e-97</td>\n",
       "      <td>1.736748</td>\n",
       "      <td>-1.736748</td>\n",
       "    </tr>\n",
       "  </tbody>\n",
       "</table>\n",
       "</div>"
      ],
      "text/plain": [
       "    S1   S2   S3   S4         burden  toxicity  total_score\n",
       "0  1.0  1.0  1.0  1.0  4.402197e-172  2.035365    -2.035365\n",
       "1  1.0  1.0  1.0  0.5  3.779722e-129  1.866169    -1.866169\n",
       "2  1.0  1.0  1.0  0.1  9.581679e-115  1.730813    -1.730813\n",
       "3  1.0  1.0  0.5  1.0  6.954132e-140  1.905943    -1.905943\n",
       "4  1.0  1.0  0.5  0.5   6.018958e-97  1.736748    -1.736748"
      ]
     },
     "execution_count": 58,
     "metadata": {},
     "output_type": "execute_result"
    }
   ],
   "source": [
    "scored_plans = [[*sol[\"plan\"], score_burden(sol[\"burden_sol\"]), score_toxicity(sol[\"toxicity_sol\"])] for sol in sols]\n",
    "df_sp = pd.DataFrame(scored_plans, columns = [\"S1\", \"S2\", \"S3\", \"S4\", \"burden\", \"toxicity\"])\n",
    "df_sp[\"total_score\"] = score_total(df_sp[\"toxicity\"], df_sp[\"burden\"])\n",
    "df_sp.head()"
   ]
  },
  {
   "cell_type": "code",
   "execution_count": 59,
   "metadata": {},
   "outputs": [
    {
     "data": {
      "image/png": "[encoded data removed]",
      "text/plain": [
       "<Figure size 1000x400 with 2 Axes>"
      ]
     },
     "metadata": {},
     "output_type": "display_data"
    }
   ],
   "source": [
    "# plot two histograms for cost and benefit\n",
    "fig, ax = plt.subplots(1, 2, figsize=(10, 4))\n",
    "ax[0].hist(df_sp[\"toxicity\"], bins=50)\n",
    "ax[0].set_title(\"toxicity\");\n",
    "ax[1].hist(df_sp[\"burden\"], bins=50)\n",
    "ax[1].set_title(\"burden\");"
   ]
  },
  {
   "cell_type": "code",
   "execution_count": 62,
   "metadata": {},
   "outputs": [
    {
     "data": {
      "text/plain": [
       "Text(0.5, 1.0, 'Cost vs Benefit for All Treatment Schedules')"
      ]
     },
     "execution_count": 62,
     "metadata": {},
     "output_type": "execute_result"
    },
    {
     "data": {
      "image/png": "[encoded data removed]",
      "text/plain": [
       "<Figure size 640x480 with 1 Axes>"
      ]
     },
     "metadata": {},
     "output_type": "display_data"
    }
   ],
   "source": [
    "threshold = 0.1 # arbitrary threshold\n",
    "\n",
    "above_threshold = df_sp.loc[df_sp[\"total_score\"] > threshold]\n",
    "below_threshold = df_sp.loc[df_sp[\"total_score\"] <= threshold]\n",
    "plt.scatter(above_threshold[\"toxicity\"], above_threshold[\"burden\"], s=1, alpha=0.5, c=\"green\", label=\"Above Threshold\")\n",
    "plt.scatter(below_threshold[\"toxicity\"], below_threshold[\"burden\"], s=1, alpha=0.5, c=\"red\", label=\"Below Threshold\")\n",
    "\n",
    "# add a line at y = x - 1.5\n",
    "# x = np.linspace(0, 1, 100)\n",
    "# y = x * 0.01 + threshold\n",
    "# plt.plot(x, y, c=\"black\")\n",
    "\n",
    "plt.xlabel(\"toxicity\")\n",
    "plt.ylabel(\"burden\")\n",
    "plt.legend()\n",
    "plt.title(\"Cost vs Benefit for All Treatment Schedules\")"
   ]
  },
  {
   "cell_type": "code",
   "execution_count": null,
   "metadata": {},
   "outputs": [],
   "source": []
  }
 ],
 "metadata": {
  "kernelspec": {
   "display_name": "Python 3",
   "language": "python",
   "name": "python3"
  },
  "language_info": {
   "codemirror_mode": {
    "name": "ipython",
    "version": 3
   },
   "file_extension": ".py",
   "mimetype": "text/x-python",
   "name": "python",
   "nbconvert_exporter": "python",
   "pygments_lexer": "ipython3",
   "version": "3.9.18"
  }
 },
 "nbformat": 4,
 "nbformat_minor": 2
}
