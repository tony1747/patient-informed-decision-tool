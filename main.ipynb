{
 "cells": [
  {
   "cell_type": "code",
   "execution_count": 20,
   "metadata": {},
   "outputs": [
    {
     "name": "stdout",
     "output_type": "stream",
     "text": [
      "The autoreload extension is already loaded. To reload it, use:\n",
      "  %reload_ext autoreload\n"
     ]
    }
   ],
   "source": [
    "import time\n",
    "import numpy as np\n",
    "import pandas as pd\n",
    "import matplotlib.pyplot as plt\n",
    "import json\n",
    "import scoring as sc\n",
    "\n",
    "%load_ext autoreload\n",
    "%autoreload 2"
   ]
  },
  {
   "cell_type": "code",
   "execution_count": 16,
   "metadata": {},
   "outputs": [],
   "source": [
    "# read json file patient_config.json\n",
    "with open('patient_config.json') as f:\n",
    "    patient_config = json.load(f)\n",
    "doses = [1, 0.75, 0.5]\n",
    "plans = [(t1, t2, t3, t4) for t1 in doses for t2 in doses for t3 in doses for t4 in doses]"
   ]
  },
  {
   "cell_type": "code",
   "execution_count": 17,
   "metadata": {},
   "outputs": [
    {
     "name": "stdout",
     "output_type": "stream",
     "text": [
      "Testing 81 treatment schedules.\n",
      "Elapsed Time: 36.9817 seconds\n"
     ]
    }
   ],
   "source": [
    "start_time = time.time()\n",
    "print(f\"Testing {len(plans)} treatment schedules.\")\n",
    "\n",
    "sols = [sc.score(patient_config, plan) for plan in plans]\n",
    "\n",
    "end_time = time.time()\n",
    "elapsed_time = end_time - start_time\n",
    "print(f\"Elapsed Time: {elapsed_time:.4f} seconds\")"
   ]
  },
  {
   "cell_type": "code",
   "execution_count": 21,
   "metadata": {},
   "outputs": [
    {
     "data": {
      "text/html": [
       "<div>\n",
       "<style scoped>\n",
       "    .dataframe tbody tr th:only-of-type {\n",
       "        vertical-align: middle;\n",
       "    }\n",
       "\n",
       "    .dataframe tbody tr th {\n",
       "        vertical-align: top;\n",
       "    }\n",
       "\n",
       "    .dataframe thead th {\n",
       "        text-align: right;\n",
       "    }\n",
       "</style>\n",
       "<table border=\"1\" class=\"dataframe\">\n",
       "  <thead>\n",
       "    <tr style=\"text-align: right;\">\n",
       "      <th></th>\n",
       "      <th>S1</th>\n",
       "      <th>S2</th>\n",
       "      <th>S3</th>\n",
       "      <th>S4</th>\n",
       "      <th>burden</th>\n",
       "      <th>toxicity</th>\n",
       "      <th>total_score</th>\n",
       "    </tr>\n",
       "  </thead>\n",
       "  <tbody>\n",
       "    <tr>\n",
       "      <th>0</th>\n",
       "      <td>1.0</td>\n",
       "      <td>1.0</td>\n",
       "      <td>1.00</td>\n",
       "      <td>1.00</td>\n",
       "      <td>4.402197e-172</td>\n",
       "      <td>2.035365</td>\n",
       "      <td>-2.035365</td>\n",
       "    </tr>\n",
       "    <tr>\n",
       "      <th>1</th>\n",
       "      <td>1.0</td>\n",
       "      <td>1.0</td>\n",
       "      <td>1.00</td>\n",
       "      <td>0.75</td>\n",
       "      <td>2.084003e-147</td>\n",
       "      <td>1.950767</td>\n",
       "      <td>-1.950767</td>\n",
       "    </tr>\n",
       "    <tr>\n",
       "      <th>2</th>\n",
       "      <td>1.0</td>\n",
       "      <td>1.0</td>\n",
       "      <td>1.00</td>\n",
       "      <td>0.50</td>\n",
       "      <td>3.779722e-129</td>\n",
       "      <td>1.866169</td>\n",
       "      <td>-1.866169</td>\n",
       "    </tr>\n",
       "    <tr>\n",
       "      <th>3</th>\n",
       "      <td>1.0</td>\n",
       "      <td>1.0</td>\n",
       "      <td>0.75</td>\n",
       "      <td>1.00</td>\n",
       "      <td>1.410194e-153</td>\n",
       "      <td>1.970654</td>\n",
       "      <td>-1.970654</td>\n",
       "    </tr>\n",
       "    <tr>\n",
       "      <th>4</th>\n",
       "      <td>1.0</td>\n",
       "      <td>1.0</td>\n",
       "      <td>0.75</td>\n",
       "      <td>0.75</td>\n",
       "      <td>6.692491e-129</td>\n",
       "      <td>1.886056</td>\n",
       "      <td>-1.886056</td>\n",
       "    </tr>\n",
       "  </tbody>\n",
       "</table>\n",
       "</div>"
      ],
      "text/plain": [
       "    S1   S2    S3    S4         burden  toxicity  total_score\n",
       "0  1.0  1.0  1.00  1.00  4.402197e-172  2.035365    -2.035365\n",
       "1  1.0  1.0  1.00  0.75  2.084003e-147  1.950767    -1.950767\n",
       "2  1.0  1.0  1.00  0.50  3.779722e-129  1.866169    -1.866169\n",
       "3  1.0  1.0  0.75  1.00  1.410194e-153  1.970654    -1.970654\n",
       "4  1.0  1.0  0.75  0.75  6.692491e-129  1.886056    -1.886056"
      ]
     },
     "execution_count": 21,
     "metadata": {},
     "output_type": "execute_result"
    }
   ],
   "source": [
    "scored_plans = [[*sol[\"plan\"], sc.score_burden(sol[\"burden_sol\"]), sc.score_toxicity(sol[\"toxicity_sol\"])] for sol in sols]\n",
    "df_sp = pd.DataFrame(scored_plans, columns = [\"S1\", \"S2\", \"S3\", \"S4\", \"burden\", \"toxicity\"])\n",
    "df_sp[\"total_score\"] = sc.score_total(df_sp[\"toxicity\"], df_sp[\"burden\"])\n",
    "df_sp.head()"
   ]
  },
  {
   "cell_type": "code",
   "execution_count": 22,
   "metadata": {},
   "outputs": [
    {
     "data": {
      "image/png": "[encoded data removed]",
      "text/plain": [
       "<Figure size 1000x400 with 2 Axes>"
      ]
     },
     "metadata": {},
     "output_type": "display_data"
    }
   ],
   "source": [
    "# plot two histograms for cost and benefit\n",
    "fig, ax = plt.subplots(1, 2, figsize=(10, 4))\n",
    "ax[0].hist(df_sp[\"toxicity\"], bins=50)\n",
    "ax[0].set_title(\"toxicity\");\n",
    "ax[1].hist(df_sp[\"burden\"], bins=50)\n",
    "ax[1].set_title(\"burden\");"
   ]
  },
  {
   "cell_type": "code",
   "execution_count": 23,
   "metadata": {},
   "outputs": [
    {
     "data": {
      "image/png": "[encoded data removed]",
      "text/plain": [
       "<Figure size 640x480 with 1 Axes>"
      ]
     },
     "metadata": {},
     "output_type": "display_data"
    }
   ],
   "source": [
    "plt.scatter(df_sp[\"toxicity\"], df_sp[\"burden\"], s=1, alpha=0.5)\n",
    "\n",
    "plt.xlabel(\"toxicity\")\n",
    "plt.ylabel(\"burden\")\n",
    "plt.title(\"Cost vs Benefit for All Treatment Schedules\");"
   ]
  },
  {
   "cell_type": "code",
   "execution_count": null,
   "metadata": {},
   "outputs": [],
   "source": []
  }
 ],
 "metadata": {
  "kernelspec": {
   "display_name": "Python 3",
   "language": "python",
   "name": "python3"
  },
  "language_info": {
   "codemirror_mode": {
    "name": "ipython",
    "version": 3
   },
   "file_extension": ".py",
   "mimetype": "text/x-python",
   "name": "python",
   "nbconvert_exporter": "python",
   "pygments_lexer": "ipython3",
   "version": "3.9.18"
  }
 },
 "nbformat": 4,
 "nbformat_minor": 2
}
