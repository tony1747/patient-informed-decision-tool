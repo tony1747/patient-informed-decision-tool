{
 "cells": [
  {
   "cell_type": "code",
   "execution_count": 25,
   "metadata": {},
   "outputs": [
    {
     "name": "stdout",
     "output_type": "stream",
     "text": [
      "The autoreload extension is already loaded. To reload it, use:\n",
      "  %reload_ext autoreload\n"
     ]
    }
   ],
   "source": [
    "import numpy as np\n",
    "import pandas as pd\n",
    "import matplotlib.pyplot as plt\n",
    "import json\n",
    "%load_ext autoreload\n",
    "%autoreload 2"
   ]
  },
  {
   "cell_type": "code",
   "execution_count": 26,
   "metadata": {},
   "outputs": [],
   "source": [
    "import growth_model as gm\n",
    "import tox_model as tm\n",
    "import scheduler as sch\n",
    "import file_manipulation as fm"
   ]
  },
  {
   "cell_type": "code",
   "execution_count": 27,
   "metadata": {},
   "outputs": [
    {
     "data": {
      "text/plain": [
       "{'toxicity': 1.6433127155860012,\n",
       " 'burden': 0.8708684897640193,\n",
       " 'r': 0.7319939418114051,\n",
       " 'a': 0.5986584841970366,\n",
       " 's1': 0.15601864044243652,\n",
       " 's2': 0.15599452033620265,\n",
       " 's3': 0.05808361216819946,\n",
       " 's4': 0.8661761457749352,\n",
       " 'tx1': 0.6011150117432088,\n",
       " 'tx2': 0.7080725777960455,\n",
       " 'tx3': 0.020584494295802447,\n",
       " 'tx4': 0.9699098521619943,\n",
       " 'clear': 0.8324426408004217,\n",
       " 'start_strike': 1,\n",
       " 'start_cycle': 1}"
      ]
     },
     "execution_count": 27,
     "metadata": {},
     "output_type": "execute_result"
    }
   ],
   "source": [
    "with open('patient_config.json') as f:\n",
    "    patient_config = json.load(f)\n",
    "patient_config"
   ]
  },
  {
   "cell_type": "code",
   "execution_count": 28,
   "metadata": {},
   "outputs": [
    {
     "ename": "AttributeError",
     "evalue": "module 'file_manipulation' has no attribute 'get_plan'",
     "output_type": "error",
     "traceback": [
      "\u001b[0;31m---------------------------------------------------------------------------\u001b[0m",
      "\u001b[0;31mAttributeError\u001b[0m                            Traceback (most recent call last)",
      "\u001b[1;32m/home/astreck/patient-informed-decision-tool/test.ipynb Cell 4\u001b[0m line \u001b[0;36m1\n\u001b[0;32m----> <a href='vscode-notebook-cell:/home/astreck/patient-informed-decision-tool/test.ipynb#X23sZmlsZQ%3D%3D?line=0'>1</a>\u001b[0m S \u001b[39m=\u001b[39m fm\u001b[39m.\u001b[39;49mget_plan(patient_config)\n\u001b[1;32m      <a href='vscode-notebook-cell:/home/astreck/patient-informed-decision-tool/test.ipynb#X23sZmlsZQ%3D%3D?line=1'>2</a>\u001b[0m S\n",
      "\u001b[0;31mAttributeError\u001b[0m: module 'file_manipulation' has no attribute 'get_plan'"
     ]
    }
   ],
   "source": [
    "S = fm.get_plan(patient_config)\n",
    "S"
   ]
  },
  {
   "cell_type": "code",
   "execution_count": null,
   "metadata": {},
   "outputs": [
    {
     "data": {
      "text/plain": [
       "[0.6011150117432088,\n",
       " 0.7080725777960455,\n",
       " 0.020584494295802447,\n",
       " 0.9699098521619943]"
      ]
     },
     "execution_count": 15,
     "metadata": {},
     "output_type": "execute_result"
    }
   ],
   "source": [
    "fm.get_toxicities(patient_config)"
   ]
  },
  {
   "cell_type": "code",
   "execution_count": null,
   "metadata": {},
   "outputs": [],
   "source": [
    "assert len(sch.plan_to_schedule(*S, 1, 1)) == 18\n",
    "assert len(sch.plan_to_schedule(*S, 4, 5)) == 1"
   ]
  },
  {
   "cell_type": "code",
   "execution_count": null,
   "metadata": {},
   "outputs": [],
   "source": [
    "test_cycles_1= np.array([\n",
    "    [1, 0.5, 1, 2],\n",
    "    [1, 0.3, 5, 9],\n",
    "    [2, 0.9, 2, 20],\n",
    "    [2, 0.9, 10, 20],\n",
    "    [3, 0.8, 30, 40],\n",
    "    [4, 0.8, 70, 80],\n",
    "    ], dtype=float)\n",
    "\n",
    "test_cycles_2 = np.array([\n",
    "    [1, 0.0, 0, 2],\n",
    "    [1, 0.0, 5, 9],\n",
    "    [1, 0.0, 10, 15],\n",
    "    [1, 1.0, 20, 30],\n",
    "    [2, 0.0, 2, 20],\n",
    "    [2, 0.75, 100, 120],\n",
    "    [3, 0.0, 30, 40],\n",
    "    [4, 0.0, 70, 80],\n",
    "    ], dtype=float)"
   ]
  },
  {
   "cell_type": "code",
   "execution_count": 30,
   "metadata": {},
   "outputs": [
    {
     "name": "stdout",
     "output_type": "stream",
     "text": [
      "0.022619203681786538\n"
     ]
    },
    {
     "data": {
      "image/png": "[encoded data removed]",
      "text/plain": [
       "<Figure size 400x300 with 1 Axes>"
      ]
     },
     "metadata": {},
     "output_type": "display_data"
    }
   ],
   "source": [
    "a = 1\n",
    "sol = gm.tumour_growth(10000, 300, test_cycles_2, a, S, TD=180.)\n",
    "gm.plot_solution(sol)\n",
    "print(gm.final_tumour_volume(sol))"
   ]
  },
  {
   "cell_type": "code",
   "execution_count": 29,
   "metadata": {},
   "outputs": [
    {
     "name": "stderr",
     "output_type": "stream",
     "text": [
      "rv_cb_arr is NULL\n",
      "Call-back cb_f_in_lsoda__user__routines failed.\n"
     ]
    },
    {
     "ename": "ValueError",
     "evalue": "0-th dimension must be fixed to 1 but got 450\n",
     "output_type": "error",
     "traceback": [
      "\u001b[0;31m---------------------------------------------------------------------------\u001b[0m",
      "\u001b[0;31mValueError\u001b[0m                                Traceback (most recent call last)",
      "\u001b[1;32m/home/astreck/patient-informed-decision-tool/test.ipynb Cell 9\u001b[0m line \u001b[0;36m2\n\u001b[1;32m      <a href='vscode-notebook-cell:/home/astreck/patient-informed-decision-tool/test.ipynb#X31sZmlsZQ%3D%3D?line=0'>1</a>\u001b[0m gen_cycles \u001b[39m=\u001b[39m np\u001b[39m.\u001b[39marray(sch\u001b[39m.\u001b[39mplan_to_schedule(\u001b[39m*\u001b[39mS, \u001b[39m1\u001b[39m, \u001b[39m1\u001b[39m), dtype\u001b[39m=\u001b[39m\u001b[39mobject\u001b[39m)\n\u001b[0;32m----> <a href='vscode-notebook-cell:/home/astreck/patient-informed-decision-tool/test.ipynb#X31sZmlsZQ%3D%3D?line=1'>2</a>\u001b[0m sol \u001b[39m=\u001b[39m gm\u001b[39m.\u001b[39;49mtumour_growth(\u001b[39m1\u001b[39;49m, \u001b[39m300\u001b[39;49m, gen_cycles, a, S, TD\u001b[39m=\u001b[39;49m\u001b[39m180.\u001b[39;49m)\n\u001b[1;32m      <a href='vscode-notebook-cell:/home/astreck/patient-informed-decision-tool/test.ipynb#X31sZmlsZQ%3D%3D?line=2'>3</a>\u001b[0m gm\u001b[39m.\u001b[39mplot_solution(sol)\n\u001b[1;32m      <a href='vscode-notebook-cell:/home/astreck/patient-informed-decision-tool/test.ipynb#X31sZmlsZQ%3D%3D?line=3'>4</a>\u001b[0m \u001b[39mprint\u001b[39m(gm\u001b[39m.\u001b[39mfinal_tumour_volume(sol))\n",
      "File \u001b[0;32m~/patient-informed-decision-tool/growth_model.py:37\u001b[0m, in \u001b[0;36mtumour_growth\u001b[0;34m(C0, T, D, a, S, TD)\u001b[0m\n\u001b[1;32m     11\u001b[0m \u001b[39m\u001b[39m\u001b[39m\"\"\"\u001b[39;00m\n\u001b[1;32m     12\u001b[0m \u001b[39m:param c0: Initial tumour value\u001b[39;00m\n\u001b[1;32m     13\u001b[0m \u001b[39m:param T: End of simulation time\u001b[39;00m\n\u001b[0;32m   (...)\u001b[0m\n\u001b[1;32m     33\u001b[0m \u001b[39m:return: C(t) cancer volume as function of time\u001b[39;00m\n\u001b[1;32m     34\u001b[0m \u001b[39m\"\"\"\u001b[39;00m\n\u001b[1;32m     35\u001b[0m g \u001b[39m=\u001b[39m np\u001b[39m.\u001b[39mlog(\u001b[39m2\u001b[39m) \u001b[39m/\u001b[39m TD\n\u001b[0;32m---> 37\u001b[0m sol \u001b[39m=\u001b[39m integrate\u001b[39m.\u001b[39;49msolve_ivp(ode, t_span\u001b[39m=\u001b[39;49m(\u001b[39m0\u001b[39;49m, T), y0\u001b[39m=\u001b[39;49m(C0,), args\u001b[39m=\u001b[39;49m(g, a, S, D,), max_step\u001b[39m=\u001b[39;49m\u001b[39m0.1\u001b[39;49m,\n\u001b[1;32m     38\u001b[0m                           method\u001b[39m=\u001b[39;49m\u001b[39m'\u001b[39;49m\u001b[39mLSODA\u001b[39;49m\u001b[39m'\u001b[39;49m)\n\u001b[1;32m     40\u001b[0m \u001b[39mreturn\u001b[39;00m sol\n",
      "File \u001b[0;32m~/mambaforge/envs/moffitt/lib/python3.9/site-packages/scipy/integrate/_ivp/ivp.py:602\u001b[0m, in \u001b[0;36msolve_ivp\u001b[0;34m(fun, t_span, y0, method, t_eval, dense_output, events, vectorized, args, **options)\u001b[0m\n\u001b[1;32m    600\u001b[0m status \u001b[39m=\u001b[39m \u001b[39mNone\u001b[39;00m\n\u001b[1;32m    601\u001b[0m \u001b[39mwhile\u001b[39;00m status \u001b[39mis\u001b[39;00m \u001b[39mNone\u001b[39;00m:\n\u001b[0;32m--> 602\u001b[0m     message \u001b[39m=\u001b[39m solver\u001b[39m.\u001b[39;49mstep()\n\u001b[1;32m    604\u001b[0m     \u001b[39mif\u001b[39;00m solver\u001b[39m.\u001b[39mstatus \u001b[39m==\u001b[39m \u001b[39m'\u001b[39m\u001b[39mfinished\u001b[39m\u001b[39m'\u001b[39m:\n\u001b[1;32m    605\u001b[0m         status \u001b[39m=\u001b[39m \u001b[39m0\u001b[39m\n",
      "File \u001b[0;32m~/mambaforge/envs/moffitt/lib/python3.9/site-packages/scipy/integrate/_ivp/base.py:197\u001b[0m, in \u001b[0;36mOdeSolver.step\u001b[0;34m(self)\u001b[0m\n\u001b[1;32m    195\u001b[0m \u001b[39melse\u001b[39;00m:\n\u001b[1;32m    196\u001b[0m     t \u001b[39m=\u001b[39m \u001b[39mself\u001b[39m\u001b[39m.\u001b[39mt\n\u001b[0;32m--> 197\u001b[0m     success, message \u001b[39m=\u001b[39m \u001b[39mself\u001b[39;49m\u001b[39m.\u001b[39;49m_step_impl()\n\u001b[1;32m    199\u001b[0m     \u001b[39mif\u001b[39;00m \u001b[39mnot\u001b[39;00m success:\n\u001b[1;32m    200\u001b[0m         \u001b[39mself\u001b[39m\u001b[39m.\u001b[39mstatus \u001b[39m=\u001b[39m \u001b[39m'\u001b[39m\u001b[39mfailed\u001b[39m\u001b[39m'\u001b[39m\n",
      "File \u001b[0;32m~/mambaforge/envs/moffitt/lib/python3.9/site-packages/scipy/integrate/_ivp/lsoda.py:161\u001b[0m, in \u001b[0;36mLSODA._step_impl\u001b[0;34m(self)\u001b[0m\n\u001b[1;32m    159\u001b[0m itask \u001b[39m=\u001b[39m integrator\u001b[39m.\u001b[39mcall_args[\u001b[39m2\u001b[39m]\n\u001b[1;32m    160\u001b[0m integrator\u001b[39m.\u001b[39mcall_args[\u001b[39m2\u001b[39m] \u001b[39m=\u001b[39m \u001b[39m5\u001b[39m\n\u001b[0;32m--> 161\u001b[0m solver\u001b[39m.\u001b[39m_y, solver\u001b[39m.\u001b[39mt \u001b[39m=\u001b[39m integrator\u001b[39m.\u001b[39;49mrun(\n\u001b[1;32m    162\u001b[0m     solver\u001b[39m.\u001b[39;49mf, solver\u001b[39m.\u001b[39;49mjac \u001b[39mor\u001b[39;49;00m (\u001b[39mlambda\u001b[39;49;00m: \u001b[39mNone\u001b[39;49;00m), solver\u001b[39m.\u001b[39;49m_y, solver\u001b[39m.\u001b[39;49mt,\n\u001b[1;32m    163\u001b[0m     \u001b[39mself\u001b[39;49m\u001b[39m.\u001b[39;49mt_bound, solver\u001b[39m.\u001b[39;49mf_params, solver\u001b[39m.\u001b[39;49mjac_params)\n\u001b[1;32m    164\u001b[0m integrator\u001b[39m.\u001b[39mcall_args[\u001b[39m2\u001b[39m] \u001b[39m=\u001b[39m itask\n\u001b[1;32m    166\u001b[0m \u001b[39mif\u001b[39;00m solver\u001b[39m.\u001b[39msuccessful():\n",
      "File \u001b[0;32m~/mambaforge/envs/moffitt/lib/python3.9/site-packages/scipy/integrate/_ode.py:1344\u001b[0m, in \u001b[0;36mlsoda.run\u001b[0;34m(self, f, jac, y0, t0, t1, f_params, jac_params)\u001b[0m\n\u001b[1;32m   1341\u001b[0m     \u001b[39mself\u001b[39m\u001b[39m.\u001b[39macquire_new_handle()\n\u001b[1;32m   1342\u001b[0m args \u001b[39m=\u001b[39m [f, y0, t0, t1] \u001b[39m+\u001b[39m \u001b[39mself\u001b[39m\u001b[39m.\u001b[39mcall_args[:\u001b[39m-\u001b[39m\u001b[39m1\u001b[39m] \u001b[39m+\u001b[39m \\\n\u001b[1;32m   1343\u001b[0m        [jac, \u001b[39mself\u001b[39m\u001b[39m.\u001b[39mcall_args[\u001b[39m-\u001b[39m\u001b[39m1\u001b[39m], f_params, \u001b[39m0\u001b[39m, jac_params]\n\u001b[0;32m-> 1344\u001b[0m y1, t, istate \u001b[39m=\u001b[39m \u001b[39mself\u001b[39;49m\u001b[39m.\u001b[39;49mrunner(\u001b[39m*\u001b[39;49margs)\n\u001b[1;32m   1345\u001b[0m \u001b[39mself\u001b[39m\u001b[39m.\u001b[39mistate \u001b[39m=\u001b[39m istate\n\u001b[1;32m   1346\u001b[0m \u001b[39mif\u001b[39;00m istate \u001b[39m<\u001b[39m \u001b[39m0\u001b[39m:\n",
      "\u001b[0;31mValueError\u001b[0m: 0-th dimension must be fixed to 1 but got 450\n"
     ]
    }
   ],
   "source": [
    "gen_cycles = np.array(sch.plan_to_schedule(*S, 1, 1), dtype=object)\n",
    "sol = gm.tumour_growth(1, 300, gen_cycles, a, S, TD=180.)\n",
    "gm.plot_solution(sol)\n",
    "print(gm.final_tumour_volume(sol))"
   ]
  },
  {
   "cell_type": "code",
   "execution_count": null,
   "metadata": {},
   "outputs": [
    {
     "data": {
      "text/html": [
       "<div>\n",
       "<style scoped>\n",
       "    .dataframe tbody tr th:only-of-type {\n",
       "        vertical-align: middle;\n",
       "    }\n",
       "\n",
       "    .dataframe tbody tr th {\n",
       "        vertical-align: top;\n",
       "    }\n",
       "\n",
       "    .dataframe thead th {\n",
       "        text-align: right;\n",
       "    }\n",
       "</style>\n",
       "<table border=\"1\" class=\"dataframe\">\n",
       "  <thead>\n",
       "    <tr style=\"text-align: right;\">\n",
       "      <th></th>\n",
       "      <th>strike</th>\n",
       "      <th>dose</th>\n",
       "      <th>start</th>\n",
       "      <th>end</th>\n",
       "    </tr>\n",
       "  </thead>\n",
       "  <tbody>\n",
       "    <tr>\n",
       "      <th>0</th>\n",
       "      <td>1</td>\n",
       "      <td>0.5</td>\n",
       "      <td>1</td>\n",
       "      <td>2</td>\n",
       "    </tr>\n",
       "    <tr>\n",
       "      <th>1</th>\n",
       "      <td>1</td>\n",
       "      <td>0.3</td>\n",
       "      <td>5</td>\n",
       "      <td>9</td>\n",
       "    </tr>\n",
       "    <tr>\n",
       "      <th>2</th>\n",
       "      <td>2</td>\n",
       "      <td>0.9</td>\n",
       "      <td>2</td>\n",
       "      <td>20</td>\n",
       "    </tr>\n",
       "    <tr>\n",
       "      <th>3</th>\n",
       "      <td>2</td>\n",
       "      <td>0.9</td>\n",
       "      <td>10</td>\n",
       "      <td>20</td>\n",
       "    </tr>\n",
       "    <tr>\n",
       "      <th>4</th>\n",
       "      <td>3</td>\n",
       "      <td>0.8</td>\n",
       "      <td>30</td>\n",
       "      <td>40</td>\n",
       "    </tr>\n",
       "    <tr>\n",
       "      <th>5</th>\n",
       "      <td>4</td>\n",
       "      <td>0.8</td>\n",
       "      <td>70</td>\n",
       "      <td>80</td>\n",
       "    </tr>\n",
       "  </tbody>\n",
       "</table>\n",
       "</div>"
      ],
      "text/plain": [
       "   strike  dose  start  end\n",
       "0       1   0.5      1    2\n",
       "1       1   0.3      5    9\n",
       "2       2   0.9      2   20\n",
       "3       2   0.9     10   20\n",
       "4       3   0.8     30   40\n",
       "5       4   0.8     70   80"
      ]
     },
     "execution_count": 20,
     "metadata": {},
     "output_type": "execute_result"
    }
   ],
   "source": [
    "cyc_df = fm.cycles_to_df(test_cycles_1)\n",
    "cyc_df"
   ]
  },
  {
   "cell_type": "code",
   "execution_count": null,
   "metadata": {},
   "outputs": [
    {
     "data": {
      "text/plain": [
       "{1.0: [{'dose': 0.5, 'start': 1.0, 'end': 2.0},\n",
       "  {'dose': 'break', 'start': 2.0, 'end': 5.0},\n",
       "  {'dose': 0.3, 'start': 5.0, 'end': 9.0}],\n",
       " 2.0: [{'dose': 0.9, 'start': 2.0, 'end': 20.0},\n",
       "  {'dose': 0.9, 'start': 10.0, 'end': 20.0}],\n",
       " 3.0: [{'dose': 0.8, 'start': 30.0, 'end': 40.0}],\n",
       " 4.0: [{'dose': 0.8, 'start': 70.0, 'end': 80.0}]}"
      ]
     },
     "execution_count": 21,
     "metadata": {},
     "output_type": "execute_result"
    }
   ],
   "source": [
    "plan = fm.cycles_df_to_report(cyc_df)\n",
    "plan"
   ]
  },
  {
   "cell_type": "code",
   "execution_count": null,
   "metadata": {},
   "outputs": [
    {
     "data": {
      "text/html": [
       "<div>\n",
       "<style scoped>\n",
       "    .dataframe tbody tr th:only-of-type {\n",
       "        vertical-align: middle;\n",
       "    }\n",
       "\n",
       "    .dataframe tbody tr th {\n",
       "        vertical-align: top;\n",
       "    }\n",
       "\n",
       "    .dataframe thead th {\n",
       "        text-align: right;\n",
       "    }\n",
       "</style>\n",
       "<table border=\"1\" class=\"dataframe\">\n",
       "  <thead>\n",
       "    <tr style=\"text-align: right;\">\n",
       "      <th></th>\n",
       "      <th>strike</th>\n",
       "      <th>dose</th>\n",
       "      <th>days</th>\n",
       "    </tr>\n",
       "  </thead>\n",
       "  <tbody>\n",
       "    <tr>\n",
       "      <th>0</th>\n",
       "      <td>1</td>\n",
       "      <td>0.5</td>\n",
       "      <td>1</td>\n",
       "    </tr>\n",
       "    <tr>\n",
       "      <th>1</th>\n",
       "      <td>1</td>\n",
       "      <td>break</td>\n",
       "      <td>3</td>\n",
       "    </tr>\n",
       "    <tr>\n",
       "      <th>2</th>\n",
       "      <td>1</td>\n",
       "      <td>0.3</td>\n",
       "      <td>4</td>\n",
       "    </tr>\n",
       "    <tr>\n",
       "      <th>3</th>\n",
       "      <td>2</td>\n",
       "      <td>0.9</td>\n",
       "      <td>18</td>\n",
       "    </tr>\n",
       "    <tr>\n",
       "      <th>4</th>\n",
       "      <td>2</td>\n",
       "      <td>0.9</td>\n",
       "      <td>10</td>\n",
       "    </tr>\n",
       "    <tr>\n",
       "      <th>5</th>\n",
       "      <td>3</td>\n",
       "      <td>0.8</td>\n",
       "      <td>10</td>\n",
       "    </tr>\n",
       "    <tr>\n",
       "      <th>6</th>\n",
       "      <td>4</td>\n",
       "      <td>0.8</td>\n",
       "      <td>10</td>\n",
       "    </tr>\n",
       "  </tbody>\n",
       "</table>\n",
       "</div>"
      ],
      "text/plain": [
       "   strike   dose  days\n",
       "0       1    0.5     1\n",
       "1       1  break     3\n",
       "2       1    0.3     4\n",
       "3       2    0.9    18\n",
       "4       2    0.9    10\n",
       "5       3    0.8    10\n",
       "6       4    0.8    10"
      ]
     },
     "execution_count": 22,
     "metadata": {},
     "output_type": "execute_result"
    }
   ],
   "source": [
    "sch_df = fm.report_to_df(plan)\n",
    "sch_df"
   ]
  },
  {
   "cell_type": "code",
   "execution_count": null,
   "metadata": {},
   "outputs": [
    {
     "data": {
      "text/plain": [
       "array([[ 1. ,  0.5,  1. ,  2. ],\n",
       "       [ 1. ,  0.3,  5. ,  9. ],\n",
       "       [ 2. ,  0.9,  2. , 20. ],\n",
       "       [ 2. ,  0.9, 10. , 20. ],\n",
       "       [ 3. ,  0.8, 30. , 40. ],\n",
       "       [ 4. ,  0.8, 70. , 80. ]])"
      ]
     },
     "execution_count": 23,
     "metadata": {},
     "output_type": "execute_result"
    }
   ],
   "source": [
    "a, b = tm.RunToxDifferenceEquation(0, 0, 365,test_cycles_1,[0.5,0.5,0.5,0.5],0.95,10.0)\n",
    "tm.GenNewSched(test_cycles_1, b)"
   ]
  }
 ],
 "metadata": {
  "kernelspec": {
   "display_name": "moffitt",
   "language": "python",
   "name": "python3"
  },
  "language_info": {
   "codemirror_mode": {
    "name": "ipython",
    "version": 3
   },
   "file_extension": ".py",
   "mimetype": "text/x-python",
   "name": "python",
   "nbconvert_exporter": "python",
   "pygments_lexer": "ipython3",
   "version": "3.9.18"
  }
 },
 "nbformat": 4,
 "nbformat_minor": 2
}
