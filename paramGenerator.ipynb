{
 "cells": [
  {
   "cell_type": "markdown",
   "metadata": {},
   "source": [
    "# patien-value generator"
   ]
  },
  {
   "cell_type": "code",
   "execution_count": 2,
   "metadata": {},
   "outputs": [],
   "source": [
    "import numpy as np\n",
    "import scipy.stats as stats"
   ]
  },
  {
   "cell_type": "markdown",
   "metadata": {},
   "source": [
    "## Generate values for the paient specific-patameters"
   ]
  },
  {
   "cell_type": "markdown",
   "metadata": {},
   "source": [
    "By sampling from the log-normal distributions.\n",
    "For the sake of presentation the distributions will be population-wide. In potential clinical usage we could do multiple sampling from patient specific distributions"
   ]
  },
  {
   "cell_type": "markdown",
   "metadata": {},
   "source": [
    "| Parameter | Definition |\n",
    "| --- | --- |\n",
    "| toxicity | initial toxicity |\n",
    "| burden | initial burden |\n",
    "| r | growth rate |\n",
    "| a | [Allee effect](https://en.wikipedia.org/wiki/Allee_effect) |\n",
    "| s1, s2, s3, s4 | sensitivity to drugs 1, 2, 3, 4 |\n",
    "| t1, tx2, tx3, tx4 | toxicity from drugs 1, 2, 3, 4 |\n",
    "| clearRate |  toxicity clearance rate (same for all drugs) |"
   ]
  },
  {
   "cell_type": "code",
   "execution_count": 3,
   "metadata": {},
   "outputs": [],
   "source": [
    "class PatientGen():\n",
    "    def __init__(self):\n",
    "        self._dist = {\n",
    "            'toxicity': stats.lognorm(s = 1, scale = np.exp(0)),\n",
    "            'burden' : stats.lognorm(s = 1, scale = np.exp(0)),\n",
    "            'r' : stats.uniform(loc = 0, scale = 1),\n",
    "            'a' : stats.uniform(loc = 0, scale = 1),\n",
    "            's1' : stats.uniform(loc = 0, scale = 1),\n",
    "            's2' : stats.uniform(loc = 0, scale = 1),\n",
    "            's3' : stats.uniform(loc = 0, scale = 1),\n",
    "            's4' : stats.uniform(loc = 0, scale = 1),\n",
    "            'tx1' : stats.uniform(loc = 0, scale = 1),\n",
    "            'tx2' : stats.uniform(loc = 0, scale = 1),\n",
    "            'tx3' : stats.uniform(loc = 0, scale = 1),\n",
    "            'tx4' : stats.uniform(loc = 0, scale = 1),\n",
    "            'clear' : stats.uniform(loc = 0, scale = 1),\n",
    "        }\n",
    "        self._rnd = np.random.RandomState(seed=42)\n",
    "\n",
    "    def sample(self):\n",
    "        patient = {}\n",
    "        for key, dist in self._dist.items():\n",
    "            patient[key] = dist.rvs(random_state=self._rnd)\n",
    "        patient[\"start_strike\"] = 1\n",
    "        patient[\"start_cycle\"] = 1\n",
    "        return patient"
   ]
  },
  {
   "cell_type": "code",
   "execution_count": 4,
   "metadata": {},
   "outputs": [
    {
     "data": {
      "text/plain": [
       "{'toxicity': 1.6433127155860012,\n",
       " 'burden': 0.8708684897640193,\n",
       " 'r': 0.7319939418114051,\n",
       " 'a': 0.5986584841970366,\n",
       " 's1': 0.15601864044243652,\n",
       " 's2': 0.15599452033620265,\n",
       " 's3': 0.05808361216819946,\n",
       " 's4': 0.8661761457749352,\n",
       " 'tx1': 0.6011150117432088,\n",
       " 'tx2': 0.7080725777960455,\n",
       " 'tx3': 0.020584494295802447,\n",
       " 'tx4': 0.9699098521619943,\n",
       " 'clear': 0.8324426408004217,\n",
       " 'start_strike': 1,\n",
       " 'start_cycle': 1}"
      ]
     },
     "execution_count": 4,
     "metadata": {},
     "output_type": "execute_result"
    }
   ],
   "source": [
    "patient_gen = PatientGen()\n",
    "sample = patient_gen.sample()\n",
    "sample"
   ]
  },
  {
   "cell_type": "code",
   "execution_count": 6,
   "metadata": {},
   "outputs": [],
   "source": [
    "# store sample to patient_config.json\n",
    "import json\n",
    "with open('patient_config.json', 'w') as fp:\n",
    "    json.dump(sample, fp, indent=4)"
   ]
  }
 ],
 "metadata": {
  "kernelspec": {
   "display_name": "base",
   "language": "python",
   "name": "python3"
  },
  "language_info": {
   "codemirror_mode": {
    "name": "ipython",
    "version": 3
   },
   "file_extension": ".py",
   "mimetype": "text/x-python",
   "name": "python",
   "nbconvert_exporter": "python",
   "pygments_lexer": "ipython3",
   "version": "3.9.18"
  }
 },
 "nbformat": 4,
 "nbformat_minor": 2
}
