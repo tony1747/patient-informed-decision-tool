{
 "cells": [
  {
   "cell_type": "markdown",
   "metadata": {},
   "source": [
    "# patien-value generator"
   ]
  },
  {
   "cell_type": "code",
   "execution_count": 65,
   "metadata": {},
   "outputs": [],
   "source": [
    "import numpy as np\n",
    "import scipy.stats as stats"
   ]
  },
  {
   "cell_type": "markdown",
   "metadata": {},
   "source": [
    "## Generate values for the paient specific-patameters"
   ]
  },
  {
   "cell_type": "markdown",
   "metadata": {},
   "source": [
    "By sampling from the log-normal distributions.\n",
    "For the sake of presentation the distributions will be population-wide. In potential clinical usage we could do multiple sampling from patient specific distributions"
   ]
  },
  {
   "cell_type": "markdown",
   "metadata": {},
   "source": [
    "| Parameter | Definition |\n",
    "| --- | --- |\n",
    "| toxicity | initial toxicity |\n",
    "| burden | initial burden |\n",
    "| r | growth rate |\n",
    "| a | [Allee effect](https://en.wikipedia.org/wiki/Allee_effect) |\n",
    "| s1, s2, s3, s4 | sensitivity to drugs 1, 2, 3, 4 |\n",
    "| t1, tx2, tx3, tx4 | toxicity from drugs 1, 2, 3, 4 |\n",
    "| clearRate |  toxicity clearance rate (same for all drugs) |"
   ]
  },
  {
   "cell_type": "code",
   "execution_count": 66,
   "metadata": {},
   "outputs": [],
   "source": [
    "class PatientGen():\n",
    "    def __init__(self):\n",
    "        self._dist = {\n",
    "            'toxicity': stats.norm(loc = 0.01, scale = 0.001), #\n",
    "            'burden' : stats.norm(loc = 1e10, scale = 1e10), #\n",
    "            'a' :  stats.norm(loc = 300, scale = 100), #\n",
    "            's1' : stats.norm(loc = 0.1, scale = 0.01), # \n",
    "            's2' : stats.norm(loc = 0.075, scale = 0.005), #\n",
    "            's3' : stats.norm(loc = 0.05, scale = 0.01), #\n",
    "            's4' : stats.norm(loc = 0.025, scale = 0.005), #\n",
    "            'tx1' : stats.norm(loc = 0.1, scale = 0.01), #\n",
    "            'tx2' : stats.norm(loc = 0.075, scale = 0.01), #\n",
    "            'tx3' : stats.norm(loc = 0.05, scale = 0.01) , #\n",
    "            'tx4' : stats.norm(loc = 0.025, scale = 0.01) , #\n",
    "        }\n",
    "        self._rnd = np.random.RandomState()\n",
    "\n",
    "        self._scalers = {\n",
    "            'toxicity': 1,\n",
    "            'burden' : 1,\n",
    "            'r' : 0.001,\n",
    "            'a' : 1,\n",
    "            's1' : 0.01,\n",
    "            's2' : 0.01,\n",
    "            's3' : 0.001,\n",
    "            's4' : 0.001,\n",
    "            'tx1' : 0.1,\n",
    "            'tx2' : 0.1,\n",
    "            'tx3' : 0.1,\n",
    "            'tx4' : 0.1\n",
    "        }\n",
    "        \n",
    "        self._rnd = np.random.RandomState()\n",
    "\n",
    "    def sample(self):\n",
    "        patient = {}\n",
    "        for key, dist in self._dist.items():\n",
    "            patient[key] = dist.rvs(random_state=self._rnd)\n",
    "        patient[\"start_strike\"] = 1\n",
    "        patient[\"start_cycle\"] = 1\n",
    "        patient[\"toxicity\"] = 0.0\n",
    "        patient[\"burden\"] = 10e9\n",
    "        patient[\"r\"] = 0.95\n",
    "        return patient"
   ]
  },
  {
   "cell_type": "code",
   "execution_count": 67,
   "metadata": {},
   "outputs": [
    {
     "data": {
      "text/plain": [
       "{'toxicity': 0.1,\n",
       " 'burden': 10000000000.0,\n",
       " 'a': 371.9275176687595,\n",
       " 's1': 0.09054172433470759,\n",
       " 's2': 0.0677474376490427,\n",
       " 's3': 0.0513983182417861,\n",
       " 's4': 0.034617845977078794,\n",
       " 'tx1': 0.09895569109488252,\n",
       " 'tx2': 0.07956860696633905,\n",
       " 'tx3': 0.04451127769142332,\n",
       " 'tx4': 0.02337973304759048,\n",
       " 'start_strike': 1,\n",
       " 'start_cycle': 1,\n",
       " 'r': 0.95}"
      ]
     },
     "execution_count": 67,
     "metadata": {},
     "output_type": "execute_result"
    }
   ],
   "source": [
    "patient_gen = PatientGen()\n",
    "sample = patient_gen.sample()\n",
    "sample"
   ]
  },
  {
   "cell_type": "code",
   "execution_count": 68,
   "metadata": {},
   "outputs": [],
   "source": [
    "# store sample to patient_config.json\n",
    "import json\n",
    "with open('patient_config.json', 'w') as fp:\n",
    "    json.dump(sample, fp, indent=4)"
   ]
  },
  {
   "cell_type": "code",
   "execution_count": null,
   "metadata": {},
   "outputs": [],
   "source": []
  }
 ],
 "metadata": {
  "kernelspec": {
   "display_name": "base",
   "language": "python",
   "name": "python3"
  },
  "language_info": {
   "codemirror_mode": {
    "name": "ipython",
    "version": 3
   },
   "file_extension": ".py",
   "mimetype": "text/x-python",
   "name": "python",
   "nbconvert_exporter": "python",
   "pygments_lexer": "ipython3",
   "version": "3.9.18"
  }
 },
 "nbformat": 4,
 "nbformat_minor": 2
}
