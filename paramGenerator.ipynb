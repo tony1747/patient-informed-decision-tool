{
 "cells": [
  {
   "cell_type": "markdown",
   "metadata": {},
   "source": [
    "# patien-value generator"
   ]
  },
  {
   "cell_type": "code",
   "execution_count": 1,
   "metadata": {},
   "outputs": [],
   "source": [
    "import numpy as np\n",
    "import scipy.stats as stats"
   ]
  },
  {
   "cell_type": "markdown",
   "metadata": {},
   "source": [
    "## Generate values for the paient specific-patameters"
   ]
  },
  {
   "cell_type": "markdown",
   "metadata": {},
   "source": [
    "By sampling from the log-normal distributions.\n",
    "For the sake of presentation the distributions will be population-wide. In potential clinical usage we could do multiple sampling from patient specific distributions"
   ]
  },
  {
   "cell_type": "markdown",
   "metadata": {},
   "source": [
    "| Parameter | Definition |\n",
    "| --- | --- |\n",
    "| toxicity | initial toxicity |\n",
    "| burden | initial burden |\n",
    "| r | growth rate |\n",
    "| a | [Allee effect](https://en.wikipedia.org/wiki/Allee_effect) |\n",
    "| s1, s2, s3, s4 | sensitivity to drugs 1, 2, 3, 4 |\n",
    "| t1, tx2, tx3, tx4 | toxicity from drugs 1, 2, 3, 4 |\n",
    "| clearRate |  toxicity clearance rate (same for all drugs) |"
   ]
  },
  {
   "cell_type": "code",
   "execution_count": 2,
   "metadata": {},
   "outputs": [],
   "source": [
    "class paramGenerator:\n",
    "\n",
    "    #the lognormal distribution is defined with s = signma and scale = exp(u), where s and u are std and mean of underlying normal distribution \n",
    "    distributions = {\n",
    "        'toxicity': stats.lognorm(s = 1, scale = np.exp(0)),\n",
    "        'burden' : stats.lognorm(s = 1, scale = np.exp(0)),\n",
    "        'r' : stats.uniform(loc = 0, scale = 1),\n",
    "        'a' : stats.uniform(loc = 0, scale = 1),\n",
    "        's1' : stats.uniform(loc = 0, scale = 1),\n",
    "        's2' : stats.uniform(loc = 0, scale = 1),\n",
    "        's3' : stats.uniform(loc = 0, scale = 1),\n",
    "        's4' : stats.uniform(loc = 0, scale = 1),\n",
    "        'tx1' : stats.uniform(loc = 0, scale = 1),\n",
    "        'tx2' : stats.uniform(loc = 0, scale = 1),\n",
    "        'tx3' : stats.uniform(loc = 0, scale = 1),\n",
    "        'tx4' : stats.uniform(loc = 0, scale = 1),\n",
    "        'clear' : stats.uniform(loc = 0, scale = 1),\n",
    "    }\n",
    "\n",
    "    def __init__(\n",
    "            self,\n",
    "            toxDist = None,\n",
    "            burdenDist = None,\n",
    "            rDist = None,\n",
    "            aDist = None,\n",
    "            s1Dist = None,\n",
    "            s2Dist = None,\n",
    "            s3Dist = None,\n",
    "            s4Dist = None,\n",
    "            tx1Dist = None,\n",
    "            tx2Dist = None,\n",
    "            tx3Dist = None,\n",
    "            tx4Dist = None,\n",
    "            clearDist = None,\n",
    "            ) -> None:\n",
    "        if toxDist is not None:\n",
    "            self.distributions['toxicity'] = toxDist\n",
    "        if burdenDist is not None:\n",
    "            self.distributions['burden'] = burdenDist\n",
    "        if rDist is not None:\n",
    "            self.distributions['r'] = rDist\n",
    "        if aDist is not None:\n",
    "            self.distributions['a'] = aDist\n",
    "        if s1Dist is not None:\n",
    "            self.distributions['s1'] = s1Dist\n",
    "        if s2Dist is not None:\n",
    "            self.distributions['s2'] = s2Dist\n",
    "        if s3Dist is not None:\n",
    "            self.distributions['s3'] = s3Dist\n",
    "        if s4Dist is not None:\n",
    "            self.distributions['s4'] = s4Dist\n",
    "        if tx1Dist is not None:\n",
    "            self.distributions['tx1'] = tx1Dist\n",
    "        if tx2Dist is not None:\n",
    "            self.distributions['tx2'] = tx2Dist\n",
    "        if tx3Dist is not None:\n",
    "            self.distributions['tx3'] = tx3Dist\n",
    "        if tx4Dist is not None:\n",
    "            self.distributions['tx4'] = tx4Dist\n",
    "        if clearDist is not None:\n",
    "            self.distributions['clear'] = clearDist\n",
    "    \n",
    "\n",
    "    def generatePatient(self):\n",
    "        patient = {}\n",
    "        for key, dist in self.distributions.items():\n",
    "            patient[key] = dist.rvs()\n",
    "        return patient"
   ]
  },
  {
   "cell_type": "code",
   "execution_count": 3,
   "metadata": {},
   "outputs": [],
   "source": [
    "pat = paramGenerator()"
   ]
  },
  {
   "cell_type": "code",
   "execution_count": 4,
   "metadata": {},
   "outputs": [
    {
     "data": {
      "text/plain": [
       "{'toxicity': 0.9142345076284608,\n",
       " 'burden': 0.3701111737589885,\n",
       " 'r': 0.029101564175962213,\n",
       " 'a': 0.7937309721192891,\n",
       " 's1': 0.4826971243135827,\n",
       " 's2': 0.19811288000220295,\n",
       " 's3': 0.6496304409236439,\n",
       " 's4': 0.9802296148189882,\n",
       " 'tx1': 0.33702900795163426,\n",
       " 'tx2': 0.09350986982626042,\n",
       " 'tx3': 0.00979451097922246,\n",
       " 'tx4': 0.05904955611456686,\n",
       " 'clear': 0.3596696924919379}"
      ]
     },
     "execution_count": 4,
     "metadata": {},
     "output_type": "execute_result"
    }
   ],
   "source": [
    "pat.generatePatient()"
   ]
  },
  {
   "cell_type": "code",
   "execution_count": null,
   "metadata": {},
   "outputs": [],
   "source": []
  }
 ],
 "metadata": {
  "kernelspec": {
   "display_name": "base",
   "language": "python",
   "name": "python3"
  },
  "language_info": {
   "codemirror_mode": {
    "name": "ipython",
    "version": 3
   },
   "file_extension": ".py",
   "mimetype": "text/x-python",
   "name": "python",
   "nbconvert_exporter": "python",
   "pygments_lexer": "ipython3",
   "version": "3.11.5"
  }
 },
 "nbformat": 4,
 "nbformat_minor": 2
}
