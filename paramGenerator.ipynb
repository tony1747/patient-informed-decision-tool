{
 "cells": [
  {
   "cell_type": "markdown",
   "metadata": {},
   "source": [
    "# patien-value generator"
   ]
  },
  {
   "cell_type": "code",
   "execution_count": 4,
   "metadata": {},
   "outputs": [],
   "source": [
    "import numpy as np\n",
    "import scipy.stats as stats"
   ]
  },
  {
   "cell_type": "markdown",
   "metadata": {},
   "source": [
    "## Generate values for the paient specific-patameters"
   ]
  },
  {
   "cell_type": "markdown",
   "metadata": {},
   "source": [
    "By sampling from the log-normal distributions.\n",
    "For the sake of presentation the distributions will be population-wide. In potential clinical usage we could do multiple sampling from patient specific distributions"
   ]
  },
  {
   "cell_type": "markdown",
   "metadata": {},
   "source": [
    "| Parameter | Definition |\n",
    "| --- | --- |\n",
    "| toxicity | initial toxicity |\n",
    "| burden | initial burden |\n",
    "| r | growth rate |\n",
    "| a | [Allee effect](https://en.wikipedia.org/wiki/Allee_effect) |\n",
    "| s1, s2, s3, s4 | sensitivity to drugs 1, 2, 3, 4 |\n",
    "| t1, tx2, tx3, tx4 | toxicity from drugs 1, 2, 3, 4 |\n",
    "| clearRate |  toxicity clearance rate (same for all drugs) |"
   ]
  },
  {
   "cell_type": "code",
   "execution_count": 10,
   "metadata": {},
   "outputs": [],
   "source": [
    "class PatientGen():\n",
    "    def __init__(self):\n",
    "        self._dist = {\n",
    "            'toxicity': stats.norm(loc = 0.01, scale = 0.001), #\n",
    "            'burden' : stats.norm(loc = 1e10, scale = 1e10), #\n",
    "            'r' : stats.gamma(a = 2, scale = 3.850818/2), #\n",
    "            'a' :  stats.norm(loc = 300, scale = 100), #\n",
    "            's1' : stats.gamma(a = 2, scale = 2.173619/2), # \n",
    "            's2' : stats.gamma(a = 2, scale = 1.514206/2), #\n",
    "            's3' : stats.gamma(a = 2, scale = 9.3043/2), #\n",
    "            's4' : stats.gamma(a = 2, scale = 3.850818/2), #\n",
    "            'tx1' : stats.gamma(a = 2, scale = 4.464/2), #\n",
    "            'tx2' : stats.gamma(a = 2, scale = 4.204/2), #\n",
    "            'tx3' : stats.gamma(a = 2, scale = 5.355/2) , #\n",
    "            'tx4' : stats.gamma(a = 2, scale = 5.355/2) , #\n",
    "            'clear' : stats.norm(loc = 6, scale = 1) #\n",
    "        }\n",
    "\n",
    "        self._scalers = {\n",
    "            'toxicity': 1,\n",
    "            'burden' : 1,\n",
    "            'r' : 0.001,\n",
    "            'a' : 1,\n",
    "            's1' : 0.01,\n",
    "            's2' : 0.01,\n",
    "            's3' : 0.001,\n",
    "            's4' : 0.001,\n",
    "            'tx1' : 0.1,\n",
    "            'tx2' : 0.1,\n",
    "            'tx3' : 0.1,\n",
    "            'tx4' : 0.1,\n",
    "            'clear' : 1\n",
    "        }\n",
    "        \n",
    "        self._rnd = np.random.RandomState(seed=42)\n",
    "\n",
    "    def sample(self):\n",
    "        patient = {}\n",
    "        for key, dist in self._dist.items():\n",
    "            patient[key] = dist.rvs(random_state=self._rnd)\n",
    "        patient[\"start_strike\"] = 1\n",
    "        patient[\"start_cycle\"] = 1\n",
    "        patient[\"toxicity\"] = 0\n",
    "        patient[\"burden\"] = 10e9\n",
    "        return patient"
   ]
  },
  {
   "cell_type": "code",
   "execution_count": 11,
   "metadata": {},
   "outputs": [
    {
     "data": {
      "text/plain": [
       "{'burden': 103.74540118847362,\n",
       " 'r': 0.9507143064099162,\n",
       " 'a': 0.7319939418114051,\n",
       " 's1': 0.5986584841970366,\n",
       " 's2': 0.15601864044243652,\n",
       " 's3': 0.15599452033620265,\n",
       " 's4': 0.05808361216819946,\n",
       " 'tx1': 0.8661761457749352,\n",
       " 'tx2': 0.6011150117432088,\n",
       " 'tx3': 0.7080725777960455,\n",
       " 'tx4': 0.020584494295802447,\n",
       " 'clear': 0.9699098521619943,\n",
       " 'start_strike': 1,\n",
       " 'start_cycle': 1,\n",
       " 'toxicity': 0}"
      ]
     },
     "execution_count": 11,
     "metadata": {},
     "output_type": "execute_result"
    }
   ],
   "source": [
    "patient_gen = PatientGen()\n",
    "sample = patient_gen.sample()\n",
    "sample"
   ]
  },
  {
   "cell_type": "code",
   "execution_count": 7,
   "metadata": {},
   "outputs": [],
   "source": [
    "# store sample to patient_config.json\n",
    "import json\n",
    "with open('patient_config.json', 'w') as fp:\n",
    "    json.dump(sample, fp, indent=4)"
   ]
  }
 ],
 "metadata": {
  "kernelspec": {
   "display_name": "base",
   "language": "python",
   "name": "python3"
  },
  "language_info": {
   "codemirror_mode": {
    "name": "ipython",
    "version": 3
   },
   "file_extension": ".py",
   "mimetype": "text/x-python",
   "name": "python",
   "nbconvert_exporter": "python",
   "pygments_lexer": "ipython3",
   "version": "3.9.18"
  }
 },
 "nbformat": 4,
 "nbformat_minor": 2
}
